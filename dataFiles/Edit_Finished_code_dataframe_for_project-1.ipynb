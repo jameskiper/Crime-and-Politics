{
 "cells": [
  {
   "cell_type": "markdown",
   "metadata": {},
   "source": [
    " Import requests and Beautifulsoup to web srape from a website to get my crime data for 52 states from 2011 to 2020"
   ]
  },
  {
   "cell_type": "markdown",
   "metadata": {},
   "source": [
    " Pulling all data from the website for all the data of all years and saved to violent_crime_rates_all_years.csv"
   ]
  },
  {
   "cell_type": "code",
   "execution_count": null,
   "metadata": {},
   "outputs": [],
   "source": [
    "import requests\n",
    "from bs4 import BeautifulSoup\n",
    "import csv\n",
    "import re  # Regular expression module\n",
    "\n",
    "url = \"https://en.wikipedia.org/wiki/List_of_U.S._states_and_territories_by_violent_crime_rate\"\n",
    "response = requests.get(url)\n",
    "\n",
    "\n",
    "if response.status_code == 200:\n",
    "    soup = BeautifulSoup(response.text, 'html.parser')\n",
    "\n",
    "\n",
    "    table = soup.find('table', {'class': 'wikitable'})\n",
    "\n",
    "\n",
    "    with open('violent_crime_rates_all_years.csv', 'w', newline='', encoding='utf-8') as csvfile:\n",
    "        csv_writer = csv.writer(csvfile)\n",
    "\n",
    "\n",
    "        # Use a regular expression to match headers that are exactly four digits (years)\n",
    "        headers = table.find_all('th')\n",
    "        year_headers = [header.text.strip() for header in headers if re.match(r'^\\d{4}$', header.text.strip())]\n",
    "\n",
    "\n",
    "        header_row = ['State'] + year_headers\n",
    "        csv_writer.writerow(header_row)\n",
    "\n",
    "        for row in table.find_all('tr')[1:]:  # Adjusted index to 1 as table headers are usually in the first row\n",
    "            columns = row.find_all(['th', 'td'])\n",
    "\n",
    "            if len(columns) > 1:  \n",
    "                state = columns[0].text.strip()\n",
    "                # Fetch only columns that match the length of year_headers\n",
    "                data_columns = [column.text.strip() for column in columns[2:2 + len(year_headers)]]\n",
    "                csv_writer.writerow([state] + data_columns)\n",
    "\n",
    "    print(\"Data for all years has been successfully saved to 'violent_crime_rates_all_years.csv'.\")\n",
    "\n",
    "else:\n",
    "    print(f\"Failed to retrieve the page. Status code: {response.status_code}\")\n"
   ]
  },
  {
   "cell_type": "markdown",
   "metadata": {},
   "source": [
    " Read the CSV file into a DataFrame and save DataFrame to new name and display the first few rows of the DataFrame"
   ]
  },
  {
   "cell_type": "code",
   "execution_count": null,
   "metadata": {},
   "outputs": [],
   "source": [
    "import pandas as pd\n",
    "\n",
    "violent_crime = pd.read_csv('violent_crime_rates_all_years.csv')\n",
    "\n",
    "\n",
    "print(violent_crime.head(20))"
   ]
  },
  {
   "cell_type": "markdown",
   "metadata": {},
   "source": [
    " Read the csv file into a pandas DataFrame and use keep, to keep the columns I want in my DataFrame"
   ]
  },
  {
   "cell_type": "markdown",
   "metadata": {},
   "source": [
    " Remove the asterisk from my DataFrame and Print out the DataFrame out"
   ]
  },
  {
   "cell_type": "code",
   "execution_count": null,
   "metadata": {},
   "outputs": [],
   "source": [
    "\n",
    "violent_crime['State'] = violent_crime['State'].str.replace('*', '')\n",
    "\n",
    "# Remove any rows where 'State' is NaN\n",
    "violent_crime = violent_crime[violent_crime['State'].notna()]"
   ]
  },
  {
   "cell_type": "markdown",
   "metadata": {},
   "source": [
    " Display the full DataFrame using display.max"
   ]
  },
  {
   "cell_type": "code",
   "execution_count": null,
   "metadata": {},
   "outputs": [],
   "source": [
    "pd.set_option('display.max_rows', None)\n",
    "pd.set_option('display.max_columns', None)\n",
    "violent_crime\n"
   ]
  },
  {
   "cell_type": "markdown",
   "metadata": {},
   "source": [
    " Remove row 52 from the index using drop then displaying the DataFrame "
   ]
  },
  {
   "cell_type": "code",
   "execution_count": null,
   "metadata": {},
   "outputs": [],
   "source": [
    "violent_crime = violent_crime.drop(violent_crime.index[52])"
   ]
  },
  {
   "cell_type": "code",
   "execution_count": null,
   "metadata": {},
   "outputs": [],
   "source": [
    "violent_crime"
   ]
  },
  {
   "cell_type": "markdown",
   "metadata": {},
   "source": [
    " Pulled up the the states with the highest crime rate for each year using convert_to_numeric(value) to handle non-strings"
   ]
  },
  {
   "cell_type": "code",
   "execution_count": null,
   "metadata": {},
   "outputs": [],
   "source": [
    "import pandas as pd\n",
    "\n",
    "columns_to_convert = ['2020', '2019', '2018', '2017', '2016', '2015', '2014', '2013', '2012', '2011']\n",
    "\n",
    "def convert_to_numeric(value):\n",
    "    try:\n",
    "        return pd.to_numeric(value.replace(',', ''), errors='coerce')\n",
    "    except AttributeError:\n",
    "        return pd.to_numeric(value, errors='coerce')\n",
    "\n",
    "for column in columns_to_convert:\n",
    "    violent_crime[column] = violent_crime[column].apply(convert_to_numeric)\n",
    "\n",
    "violent_crime = violent_crime.fillna(0)\n",
    "\n",
    "\n",
    "for column in columns_to_convert:\n",
    "    highest_crime_state = violent_crime.loc[violent_crime[column].idxmax(), 'State']\n",
    "    print(f\"State with the highest crime rate in {column}: {highest_crime_state}\")\n"
   ]
  },
  {
   "cell_type": "markdown",
   "metadata": {},
   "source": [
    " The top states with the highest violent crimes from 2000 to 2020 was Washington D.C. had the highest voilent crime rate from 2011 to 2020.\n",
    "\n",
    "\n",
    "\n",
    "  Pulled up the the states with the lowest crime rate for each year using convert_to_numeric(value) to handle non-strings"
   ]
  },
  {
   "cell_type": "code",
   "execution_count": null,
   "metadata": {},
   "outputs": [],
   "source": [
    "import pandas as pd\n",
    "\n",
    "columns_to_convert = ['2020', '2019', '2018', '2017', '2016', '2015', '2014', '2013', '2012', '2011']\n",
    "\n",
    "def convert_to_numeric(value):\n",
    "    try:\n",
    "        return pd.to_numeric(value.replace(',', ''), errors='coerce')\n",
    "    except AttributeError:\n",
    "        return pd.to_numeric(value, errors='coerce')\n",
    "\n",
    "for column in columns_to_convert:\n",
    "    violent_crime[column] = violent_crime[column].apply(convert_to_numeric)\n",
    "\n",
    "violent_crime = violent_crime.fillna(0)\n",
    "\n",
    "for column in columns_to_convert:\n",
    "    lowest_crime_state = violent_crime.loc[violent_crime[column].idxmin(), 'State']\n",
    "    print(f\"State with the lowest crime rate in {column}: {lowest_crime_state}\")\n"
   ]
  },
  {
   "cell_type": "markdown",
   "metadata": {},
   "source": [
    "  The states with the lowest crime rate from 2011 to 2020 were Maine and Vermont.\n",
    "\n",
    "\n",
    "  Saved my violent_crime DataFrame to a new csv file called new_crimefile.cvs"
   ]
  },
  {
   "cell_type": "code",
   "execution_count": null,
   "metadata": {},
   "outputs": [],
   "source": [
    "violent_crime.to_csv('new_violent_crimefile.csv', index=False)"
   ]
  },
  {
   "cell_type": "code",
   "execution_count": null,
   "metadata": {},
   "outputs": [],
   "source": [
    "violent_crime"
   ]
  },
  {
   "cell_type": "markdown",
   "metadata": {},
   "source": [
    " Made a bar chart that shows the top two states during 2011-2020 that shows the greatest and lowest crime rates.  "
   ]
  },
  {
   "cell_type": "code",
   "execution_count": null,
   "metadata": {},
   "outputs": [],
   "source": [
    "import matplotlib.pyplot as plt\n",
    "import pandas as pd\n",
    "\n",
    "\n",
    "\n",
    "years = ['2011', '2012', '2013', '2014', '2015', '2016', '2017', '2018', '2019', '2020']\n",
    "\n",
    "highest_values = []\n",
    "lowest_values = []\n",
    "\n",
    "\n",
    "for year in years:\n",
    "    \n",
    "    highest_state = violent_crime.loc[violent_crime[year].idxmax()]['State']\n",
    "    lowest_state = violent_crime.loc[violent_crime[year].idxmin()]['State']\n",
    "    \n",
    "    highest_rate = violent_crime.loc[violent_crime['State'] == highest_state, year].values[0]\n",
    "    lowest_rate = violent_crime.loc[violent_crime['State'] == lowest_state, year].values[0]\n",
    "\n",
    "    highest_values.append((highest_state, highest_rate))\n",
    "    lowest_values.append((lowest_state, lowest_rate))\n",
    "\n",
    "\n",
    "highest_df = pd.DataFrame(highest_values, columns=['State', 'Rate'])\n",
    "lowest_df = pd.DataFrame(lowest_values, columns=['State', 'Rate'])\n",
    "\n",
    "\n",
    "state_colors = {\n",
    "    'California': 'blue',\n",
    "    'Maine': 'red',\n",
    "    'Washington D.C.': 'blue',\n",
    "    'Vermont': 'blue'\n",
    "}\n",
    "\n",
    "highest_df['Color'] = highest_df['State'].map(state_colors).fillna('blue')\n",
    "lowest_df['Color'] = lowest_df['State'].map(state_colors).fillna('blue')\n",
    "\n",
    "fig, axes = plt.subplots(nrows=2, ncols=1, figsize=(15, 10))\n",
    "\n",
    "\n",
    "axes[0].bar(highest_df['State'], highest_df['Rate'], color=highest_df['Color'], label='Highest Crime Rate')\n",
    "axes[0].set_title('Top two states with the highest Violent Crime Rates during the years  (2011-2020)')\n",
    "axes[0].set_ylabel('Crime Rate Per 100,000')\n",
    "\n",
    "\n",
    "axes[1].bar(lowest_df['State'], lowest_df['Rate'], color=lowest_df['Color'], label='Lowest Crime Rate')\n",
    "axes[1].set_title('Top two states with the Lowest Violent Crime Rates during the years  (2011-2020)')\n",
    "axes[1].set_ylabel('Crime Rate Per 100,000')\n",
    "\n",
    "for ax in axes:\n",
    "    ax.tick_params(axis='x', rotation=45, labelrotation=0)\n",
    "\n",
    "\n",
    "plt.tight_layout()\n",
    "plt.show()\n"
   ]
  },
  {
   "cell_type": "markdown",
   "metadata": {},
   "source": [
    " This bar chart above shows the two states that has the highest and the lowest vionlent crime rates from 2011 to 2020, the top highest State was Washington D.C. and the lowest crime rates were Maine and Vermont.\n",
    "\n",
    "\n",
    " Opened my crimes.dataset.csv file and making the population_crime the variable "
   ]
  },
  {
   "cell_type": "code",
   "execution_count": null,
   "metadata": {},
   "outputs": [],
   "source": [
    "import pandas as pd\n",
    "population_crime= pd.read_csv(\"crimes.dataset.csv\")\n",
    " \n",
    "population_crime"
   ]
  },
  {
   "cell_type": "markdown",
   "metadata": {},
   "source": [
    " Used keep for the columns that I want to have in my DataFrame "
   ]
  },
  {
   "cell_type": "code",
   "execution_count": null,
   "metadata": {},
   "outputs": [],
   "source": [
    "columns_to_keep = ['Year', 'Population', 'Violent Crimes']\n",
    "\n",
    "\n",
    "population_crime = population_crime[columns_to_keep]\n",
    "population_crime"
   ]
  },
  {
   "cell_type": "markdown",
   "metadata": {},
   "source": [
    " Saved DataFrame to a new csv file named poplution_violent_crime_rate.cvs using popultation_crime as my variable"
   ]
  },
  {
   "cell_type": "code",
   "execution_count": null,
   "metadata": {},
   "outputs": [],
   "source": [
    "\n",
    "population_crime.to_csv('population_violent_crime_rate.csv', index=False)"
   ]
  },
  {
   "cell_type": "markdown",
   "metadata": {},
   "source": [
    " Made a small DataFrame so that can save as a csv file and merge with population_violent_crime_rate.csv DataFrame "
   ]
  },
  {
   "cell_type": "code",
   "execution_count": null,
   "metadata": {},
   "outputs": [],
   "source": [
    "import pandas as pd\n",
    "\n",
    "\n",
    "data = {'Year': [2020],\n",
    "        'Population': ['335,942,111'],\n",
    "        'Violent Crimes': ['1,313,105']}\n",
    "\n",
    "year_2020_dataframe_for_merge = pd.DataFrame(data)\n",
    "\n",
    "print(year_2020_dataframe_for_merge)"
   ]
  },
  {
   "cell_type": "markdown",
   "metadata": {},
   "source": [
    " Save my year_2020_dataframe_for_merge DataFrame to a new csv file called 2020_population_violent_crime.cvs "
   ]
  },
  {
   "cell_type": "code",
   "execution_count": null,
   "metadata": {},
   "outputs": [],
   "source": [
    "year_2020_dataframe_for_merge.to_csv('2020_population_violent_crime.csv', index=False)"
   ]
  },
  {
   "cell_type": "markdown",
   "metadata": {},
   "source": [
    " Read two csv files and merge on year and using outer join and save the merge to merged_file.csv using variable called merge_crime_dataframes "
   ]
  },
  {
   "cell_type": "code",
   "execution_count": null,
   "metadata": {},
   "outputs": [],
   "source": [
    "import pandas as pd\n",
    "\n",
    "year_2020_dataframe_for_merge = pd.read_csv('2020_population_violent_crime.csv')\n",
    "population_crime = pd.read_csv('population_violent_crime_rate.csv')\n",
    "\n",
    "merge_crime_datframes = pd.merge(year_2020_dataframe_for_merge, population_crime, on='Year', how='outer')\n",
    "\n",
    "merge_crime_datframes.to_csv('merged_file.csv', index=False)\n"
   ]
  },
  {
   "cell_type": "code",
   "execution_count": null,
   "metadata": {},
   "outputs": [],
   "source": [
    "merge_crime_datframes"
   ]
  },
  {
   "cell_type": "markdown",
   "metadata": {},
   "source": [
    " Read merged_file.csv DataFrame and filled in missing values and drop unneccary columns and print DataFrame "
   ]
  },
  {
   "cell_type": "code",
   "execution_count": null,
   "metadata": {},
   "outputs": [],
   "source": [
    "import pandas as pd\n",
    "\n",
    "Violent_Population = pd.read_csv('merged_file.csv')\n",
    "\n",
    "\n",
    "Violent_Population['Population'] = Violent_Population['Population_x'].fillna(Violent_Population['Population_y'])\n",
    "Violent_Population['Violent Crimes'] = Violent_Population['Violent Crimes_x'].fillna(Violent_Population['Violent Crimes_y'])\n",
    "\n",
    "\n",
    "Violent_Population = Violent_Population.drop(['Population_x', 'Violent Crimes_x', 'Population_y', 'Violent Crimes_y'], axis=1)\n",
    "\n",
    "print(Violent_Population)\n"
   ]
  },
  {
   "cell_type": "markdown",
   "metadata": {},
   "source": [
    " I moved the top row to bottom using pd.concat and used reset_index and display changes to DataFrame "
   ]
  },
  {
   "cell_type": "code",
   "execution_count": null,
   "metadata": {},
   "outputs": [],
   "source": [
    "import pandas as pd\n",
    "\n",
    "data = {\n",
    "    'Year': [2020, 2000, 2001, 2002, 2003, 2004, 2005, 2006, 2007, 2008, 2009, 2010, 2011, 2012, 2013, 2014, 2015, 2016, 2017, 2018, 2019],\n",
    "    'Population': ['335,942,111', '281,421,906', '285,317,559', '287,973,924', '290,788,976', '293,656,842', '296,507,061', '299,398,484', '301,621,157', '304,059,724', '307,006,550', '309,330,219', '311,587,816', '313,873,685', '316,497,531', '318,907,401', '320,896,618', '323,405,935', '325,147,121', '326,687,501', '328,239,523'],\n",
    "    'Violent Crimes': ['1,313,105', '1,425,486', '1,439,480', '1,423,677', '1,383,676', '1,360,088', '1,390,745', '1,435,123', '1,422,970', '1,394,461', '1,325,896', '1,251,248', '1,206,005', '1,217,057', '1,168,298', '1,153,022', '1,199,310', '1,250,162', '1,247,917', '1,209,997', '1,203,808']\n",
    "}\n",
    "\n",
    "Violent_Population = pd.DataFrame(data)\n",
    "\n",
    "\n",
    "Violent_Population = pd.concat([Violent_Population.iloc[1:], Violent_Population.iloc[:1]])\n",
    "\n",
    "\n",
    "Violent_Population.reset_index(drop=True, inplace=True)\n",
    "\n",
    "\n",
    "print(Violent_Population)\n"
   ]
  },
  {
   "cell_type": "markdown",
   "metadata": {},
   "source": [
    " Save my cleaned and finished DataFrame to violent_population_cleaned_dataframe.cvs file using Violent_Population variable"
   ]
  },
  {
   "cell_type": "code",
   "execution_count": null,
   "metadata": {},
   "outputs": [],
   "source": [
    "Violent_Population.to_csv('violent_population_cleaned_dataframe.csv', index=False)"
   ]
  },
  {
   "cell_type": "markdown",
   "metadata": {},
   "source": [
    " Made a line chart to so the population and violent crime rates using the Violent_Population DataFrame\n",
    " This line chart show the population growth and the violent crime rates from 2000-2020 in the United States."
   ]
  },
  {
   "cell_type": "code",
   "execution_count": null,
   "metadata": {},
   "outputs": [],
   "source": [
    "import pandas as pd\n",
    "import matplotlib.pyplot as plt\n",
    "\n",
    "\n",
    "Violent_Population['Population'] = pd.to_numeric(Violent_Population['Population'].astype(str).str.replace(',', ''), errors='coerce')\n",
    "Violent_Population['Violent Crimes'] = pd.to_numeric(Violent_Population['Violent Crimes'].astype(str).str.replace(',', ''), errors='coerce')\n",
    "\n",
    "# Normalize the 'Violent Crimes' data to be in the scale of 'Population' for comparative purposes\n",
    "Violent_Population['Violent Crimes Normalized'] = (Violent_Population['Violent Crimes'] / Violent_Population['Violent Crimes'].max()) * Violent_Population['Population'].max()\n",
    "\n",
    "# Create a figure and a single set of axes\n",
    "fig, ax = plt.subplots(figsize=(10, 6))\n",
    "\n",
    "# Plotting both Population and Normalized Violent Crimes on the same axis\n",
    "ax.plot(Violent_Population['Year'], Violent_Population['Population'], marker='o', label='Population', color='b')\n",
    "ax.plot(Violent_Population['Year'], Violent_Population['Violent Crimes Normalized'], marker='o', label='Violent Crimes (Normalized)', color='r')\n",
    "\n",
    "ax.set_xlabel('Year')\n",
    "ax.set_ylabel('Population and Normalized Violent Crimes')\n",
    "ax.tick_params('y')\n",
    "ax.legend()\n",
    "\n",
    "plt.title('Population and Normalized Violent Crimes Over Time')\n",
    "plt.show()"
   ]
  },
  {
   "cell_type": "markdown",
   "metadata": {},
   "source": [
    " This line chart above shows the Population rate in blue and the Violent Crime rates in red from 2000 to 2020. "
   ]
  },
  {
   "cell_type": "markdown",
   "metadata": {},
   "source": [
    " I calcutated the population growth and calcutated the violent crimes from 2020 to 2020 using data from my Violent_Population DataFrame"
   ]
  },
  {
   "cell_type": "code",
   "execution_count": null,
   "metadata": {},
   "outputs": [],
   "source": [
    "import pandas as pd\n",
    "\n",
    "data = {'Year': list(range(2000, 2021)),\n",
    "        'Population': [281421906, 285317559, 287973924, 290788976, 293656842, 296507061, 299398484, 301621157,\n",
    "                       304059724, 307006550, 309330219, 311587816, 313873685, 316497531, 318907401, 320896618,\n",
    "                       323405935, 325147121, 326687501, 328239523, 335942111],\n",
    "        'Violent Crimes': [1425486, 1439480, 1423677, 1383676, 1360088, 1390745, 1435123, 1422970, 1394461,\n",
    "                           1325896, 1251248, 1206005, 1217057, 1168298, 1153022, 1199310, 1250162, 1247917,\n",
    "                           1209997, 1203808, 1313105]}\n",
    "\n",
    "Violent_Population = pd.DataFrame(data)\n",
    "\n",
    "Violent_Population['Population Growth'] = Violent_Population['Population'].pct_change() * 100\n",
    "\n",
    "Violent_Population['Violent Crimes Percentage'] = Violent_Population['Violent Crimes'] / Violent_Population['Population'] * 100\n",
    "\n",
    "total_population_growth = Violent_Population['Population Growth'].sum()\n",
    "total_violent_crimes_percentage = (Violent_Population['Violent Crimes'] / Violent_Population['Population']).mean() * 100\n",
    "\n",
    "print(f'Total Population Growth from 2000 to 2020: {total_population_growth:.2f}%')\n",
    "print(f'Total Violent Crimes Percentage from 2000 to 2020: {total_violent_crimes_percentage:.2f}%')\n"
   ]
  },
  {
   "cell_type": "markdown",
   "metadata": {},
   "source": [
    " Made a line chart calculating the percentage of the Population and Violent crimes from 2000 to 2020 in the United States using data from my Violent_Population DataFrame "
   ]
  },
  {
   "cell_type": "code",
   "execution_count": null,
   "metadata": {},
   "outputs": [],
   "source": [
    "import pandas as pd\n",
    "import matplotlib.pyplot as plt\n",
    "\n",
    "data = {'Year': list(range(2000, 2021)),\n",
    "        'Population': [281421906, 285317559, 287973924, 290788976, 293656842, 296507061, 299398484, 301621157,\n",
    "                       304059724, 307006550, 309330219, 311587816, 313873685, 316497531, 318907401, 320896618,\n",
    "                       323405935, 325147121, 326687501, 328239523, 335942111],\n",
    "        'Violent Crimes': [1425486, 1439480, 1423677, 1383676, 1360088, 1390745, 1435123, 1422970, 1394461,\n",
    "                           1325896, 1251248, 1206005, 1217057, 1168298, 1153022, 1199310, 1250162, 1247917,\n",
    "                           1209997, 1203808, 1313105]}\n",
    "\n",
    "Violent_Population = pd.DataFrame(data)\n",
    "\n",
    "Violent_Population['Population Growth'] = Violent_Population['Population'].pct_change() * 100\n",
    "\n",
    "Violent_Population['Violent Crimes Percentage'] = Violent_Population['Violent Crimes'] / Violent_Population['Population'] * 100\n",
    "\n",
    "plt.figure(figsize=(10, 6))\n",
    "\n",
    "plt.plot(Violent_Population['Year'], Violent_Population['Population Growth'], label='Population Growth (%)', marker='o')\n",
    "plt.plot(Violent_Population['Year'], Violent_Population['Violent Crimes Percentage'], label='Violent Crimes Percentage', marker='o')\n",
    "\n",
    "plt.title('Population Growth and Violent Crimes Percentage (2000-2020)')\n",
    "plt.xlabel('Year')\n",
    "plt.ylabel('Percentage')\n",
    "plt.legend()\n",
    "plt.grid(True)\n",
    "plt.show()\n"
   ]
  },
  {
   "cell_type": "markdown",
   "metadata": {},
   "source": [
    " This line chart above shows the Total Population Growth from 2000 to 2020 being 17.80% and\n",
    "  the Total Violent Crimes Percentage from 2000 to 2020 being 0.43%\n"
   ]
  }
 ],
 "metadata": {
  "kernelspec": {
   "display_name": "Python 3",
   "language": "python",
   "name": "python3"
  },
  "language_info": {
   "codemirror_mode": {
    "name": "ipython",
    "version": 3
   },
   "file_extension": ".py",
   "mimetype": "text/x-python",
   "name": "python",
   "nbconvert_exporter": "python",
   "pygments_lexer": "ipython3",
   "version": "3.11.6"
  }
 },
 "nbformat": 4,
 "nbformat_minor": 2
}
